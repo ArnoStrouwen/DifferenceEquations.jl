{
 "cells": [
  {
   "cell_type": "code",
   "execution_count": 1,
   "id": "e1cd5235-8b58-4a5d-8f99-e883af6fedff",
   "metadata": {},
   "outputs": [],
   "source": [
    "using Revise\n",
    "using DifferenceEquations\n",
    "using Distributions\n",
    "using Optim\n",
    "using Random"
   ]
  },
  {
   "cell_type": "markdown",
   "id": "54bcfd30-9740-4bfa-ab57-fd102a21a36c",
   "metadata": {},
   "source": [
    "# State space Models \n",
    "\n",
    "## ARMA(p,q)\n",
    "\n",
    "Define classical univariate ARMA(p,q) model (zero mean): \n",
    "\n",
    "$$\n",
    "\\begin{aligned}\n",
    "y_t = \\sum_{i=1}^{r} \\phi_i y_{t-i} + \\sum_{j=0}^{r} \\theta_{j}\\epsilon_{t-j} \n",
    "\\end{aligned}\n",
    "$$\n",
    "where $r=max(p,q+1)$ and i,j s.t. $p<i<r$ or $ q<i<r$ $\\phi_i=0, \\theta_j=0$.\n",
    "Using result from Hamilton, we can write it the model in teh state space.\n",
    "\n",
    "Transition matrix:\n",
    "$$\n",
    "\\begin{aligned}\n",
    "\\zeta_{t+1} = \\left( \\begin{matrix}\n",
    "\\phi_1 &\\phi_2 &... &\\phi_{r-1}&\\phi_r\\\\\n",
    "1&0 &...&0& 0\\\\\n",
    "\\cdots&\\cdots &...&\\cdots&\\cdots\\\\\n",
    "0&0&...&1&0\n",
    "\\end{matrix}\\right) \\zeta_{t} + \\left[ \\begin{matrix} \\epsilon_t\\\\ 0\\\\\\cdots \\\\ 0\\end{matrix}\\right]\n",
    "\\end{aligned}\n",
    "$$\n",
    "Observation matrix:\n",
    "$$\n",
    "\\begin{aligned}\n",
    "y_t = [1, \\theta_1, ... \\theta_{r-1}]\\zeta_{t}\n",
    "\\end{aligned}\n",
    "$$\n"
   ]
  },
  {
   "cell_type": "markdown",
   "id": "0b3d8a15-af29-4a0d-aa05-7b34ec8d4bb3",
   "metadata": {},
   "source": [
    "### Implementation:"
   ]
  },
  {
   "cell_type": "code",
   "execution_count": 2,
   "id": "e2f37fa2-1086-4b95-9469-d18aca415086",
   "metadata": {},
   "outputs": [
    {
     "data": {
      "text/plain": [
       "ARMA_observation (generic function with 1 method)"
      ]
     },
     "execution_count": 2,
     "metadata": {},
     "output_type": "execute_result"
    }
   ],
   "source": [
    "#r is a size of r= max(p, q+1)\n",
    "function ARMA_transition(u, p, t)\n",
    "    r = length(u)\n",
    "    matrix_T = zeros(r,r)\n",
    "    \n",
    "    for i in 1:r\n",
    "        matrix_T[1,i] = p[i]\n",
    "    end\n",
    "    \n",
    "    for i in 1:r\n",
    "        for j in 2:r\n",
    "            if j==i && j<r\n",
    "                 matrix_T[j,i] = 1.0\n",
    "            end\n",
    "        end\n",
    "    end\n",
    "    \n",
    "    return matrix_T*u\n",
    "end\n",
    "\n",
    "function ARMA_noise(u, p, t, noise) # g\n",
    "    r = length(u)\n",
    "    z = zeros(r)\n",
    "    z[1] = p[2r+1]*randn()\n",
    "    return z\n",
    "end\n",
    "\n",
    "function ARMA_observation(u, p, t, noise) # g\n",
    "    r = length(u)\n",
    "    vec_MA = zeros(r)\n",
    "    for i in 1:r\n",
    "        vec_MA[i] = p[r+i]\n",
    "    end\n",
    "    return sum(vec_MA'*u)\n",
    "end\n"
   ]
  },
  {
   "cell_type": "markdown",
   "id": "f046bb7f-2043-434a-b338-6036788fcead",
   "metadata": {},
   "source": [
    "Rest of values for the `state_space` struct"
   ]
  },
  {
   "cell_type": "code",
   "execution_count": 3,
   "id": "d0814fa8-e56b-4079-ba2e-628bbb68536c",
   "metadata": {},
   "outputs": [
    {
     "data": {
      "text/plain": [
       "(1, 50)"
      ]
     },
     "execution_count": 3,
     "metadata": {},
     "output_type": "execute_result"
    }
   ],
   "source": [
    "\n",
    "\n",
    "p_1=5\n",
    "q =4\n",
    "ρ = 0.95\n",
    "θ = 0.7\n",
    "σ = 0.02\n",
    "r = max(p_1,q+1)\n",
    "\n",
    "p = zeros(2*r+1)\n",
    "for i in 1:p_1\n",
    "        p[i] = ρ^i\n",
    "end\n",
    "\n",
    "for i in 1:q\n",
    "        p[r+i] = θ^i\n",
    "end\n",
    "p[2*r+1] = σ\n",
    "\n",
    "\n",
    "tspan = (1, 50)"
   ]
  },
  {
   "cell_type": "markdown",
   "id": "ba57ee79-4752-4182-8bee-6fd45652d30b",
   "metadata": {},
   "source": [
    "#### Simple data generation \n"
   ]
  },
  {
   "cell_type": "code",
   "execution_count": 4,
   "id": "2301db08-d8c6-4d4b-ab28-0f3de77fac4f",
   "metadata": {},
   "outputs": [
    {
     "data": {
      "text/plain": [
       "5-element Vector{Float64}:\n",
       " -0.019638471335738233\n",
       "  0.0\n",
       "  0.0\n",
       "  0.0\n",
       "  0.0"
      ]
     },
     "execution_count": 4,
     "metadata": {},
     "output_type": "execute_result"
    }
   ],
   "source": [
    "ζ = zeros(r,tspan[2]+r)\n",
    "n = σ .* randn(size(ζ,2))\n",
    "ζ[1,:] += n\n",
    "Y = \n",
    "for t in 2:tspan[2]\n",
    "    ζ[:,t] += ARMA_transition(ζ[:,t-1],p,t)\n",
    "end\n",
    "Y = zeros(1,tspan[2])\n",
    "for t in 1:tspan[2]\n",
    "    Y[t] = ARMA_observation(ζ[:,t-1+r],p,t, nothing)\n",
    "end\n",
    "u0 = ζ[:,r]\n"
   ]
  },
  {
   "cell_type": "markdown",
   "id": "82c3ffb5-279b-469b-a78a-57fe6f0c58cd",
   "metadata": {},
   "source": [
    "### Definition in `StateSpaceProblem`"
   ]
  },
  {
   "cell_type": "code",
   "execution_count": 5,
   "id": "f26cad05-ddba-4d4f-8d91-d2ea36f48947",
   "metadata": {},
   "outputs": [
    {
     "data": {
      "text/plain": [
       "StateSpaceProblem{Val{false}(), typeof(ARMA_transition), typeof(ARMA_noise), typeof(ARMA_observation), Vector{Float64}, DifferenceEquations.Gaussian{Int64, Nothing}, ZeroMeanIsoNormal{Tuple{Base.OneTo{Int64}}}, Tuple{Int64, Int64}, Matrix{Float64}, Vector{Float64}}(ARMA_transition, ARMA_noise, ARMA_observation, [0.0, 0.0], DifferenceEquations.Gaussian{Int64, Nothing}(0, nothing), ZeroMeanIsoNormal(\n",
       "dim: 0\n",
       "μ: 0-element Zeros{Float64}\n",
       "Σ: Matrix{Float64}(undef, 0, 0)\n",
       ")\n",
       ", (1, 50), [-0.013746929935016762 -0.0028542150659986447 … 0.0152890286748277 -0.0047194348313228975], [-0.019638471335738233, 0.0, 0.0, 0.0, 0.0])"
      ]
     },
     "execution_count": 5,
     "metadata": {},
     "output_type": "execute_result"
    }
   ],
   "source": [
    "prob = StateSpaceProblem(\n",
    "    ARMA_transition, \n",
    "    ARMA_noise, \n",
    "    ARMA_observation, \n",
    "    MvNormal(0,1),\n",
    "    tspan,\n",
    "    u0,\n",
    "    noise = [0.0, 0.0],\n",
    "    observables= Y\n",
    ")"
   ]
  },
  {
   "cell_type": "markdown",
   "id": "7aa5b642-702a-411e-90c8-04858d8c4021",
   "metadata": {},
   "source": [
    "## Nicholson and Bailey (1935)\n",
    "\n",
    "Here is a classical model (at least what I got for goggle) from ecology (population of some genre and it's parasite):\n",
    " \n",
    "Let $H_t$ be a (biomass) population of some animal (host), $P_t$ population of it's parasite. \n",
    "\n",
    "$$\n",
    "\\begin{aligned}\n",
    "H_{t+1} = \\lambda H_t \\exp(-a P_t)\\\\\n",
    "P_{t+1} = H_t (1 - \\exp(-a P_t)\n",
    "\\end{aligned}\n",
    "$$\n",
    "I add some random noises:\n",
    "$$\n",
    "\\begin{aligned}\n",
    "H_{t+1} =\\lambda H_t \\exp(-a P_t)+z_{1t}\\\\\n",
    "P_{t+1} = H_t (1 - \\exp(-a P_t)+z_{2t}\n",
    "\\end{aligned}\n",
    "$$\n",
    "where\n",
    "\n",
    "$$\n",
    "\\begin{aligned}\n",
    "z_{1t} \\sim N(0,\\sigma_1)\\\\\n",
    "z_{2t} \\sim N(0,\\sigma_2)\n",
    "\\end{aligned}\n",
    "$$\n",
    "I assume we just observe the population of the animal, and starting population of the paraiste\n",
    "\n",
    "Link: https://en.wikipedia.org/wiki/Nicholson%E2%80%93Bailey_modelhttps://en.wikipedia.org/wiki/Nicholson%E2%80%93Bailey_model"
   ]
  },
  {
   "cell_type": "markdown",
   "id": "3c9fe897-2886-4c30-912e-a390caee70d9",
   "metadata": {},
   "source": [
    "### Code implementation"
   ]
  },
  {
   "cell_type": "code",
   "execution_count": 6,
   "id": "accd852f-d3d4-4b88-a5fa-0a712a6da390",
   "metadata": {},
   "outputs": [
    {
     "data": {
      "text/plain": [
       "NB_observation (generic function with 1 method)"
      ]
     },
     "execution_count": 6,
     "metadata": {},
     "output_type": "execute_result"
    }
   ],
   "source": [
    "#f\n",
    "function NB_transition(u, p, t)\n",
    "    u_prim = zeros(2)\n",
    "    u_prim[1] = p[1]*u[1]*exp(-p[2]*u[2])\n",
    "    u_prim[2] = u[1]*(1-exp(-p[2]*u[2]))\n",
    "    return u_prim\n",
    "end\n",
    "#g\n",
    "function NB_noise(u, p, t, noise) # g\n",
    "    z1 = p[3] * randn()\n",
    "    z2 = p[4]*randn()\n",
    "    return [z1; z2]\n",
    "end\n",
    "\n",
    "#h\n",
    "function NB_observation(u, p, t, noise) # h\n",
    "    return [1 0] * u\n",
    "end\n",
    "\n"
   ]
  },
  {
   "cell_type": "markdown",
   "id": "990cdb07-e85b-4235-bfd4-0e663243da81",
   "metadata": {},
   "source": [
    "Rest of values of `state_space` struct"
   ]
  },
  {
   "cell_type": "code",
   "execution_count": 7,
   "id": "c06cd033-a7e2-4dd3-a6fa-03e3052a66a8",
   "metadata": {},
   "outputs": [
    {
     "data": {
      "text/plain": [
       "1×2 Matrix{Float64}:\n",
       " 1.0  0.1"
      ]
     },
     "execution_count": 7,
     "metadata": {},
     "output_type": "execute_result"
    }
   ],
   "source": [
    "\n",
    "tspan = (1, 15)\n",
    "\n",
    "#parameters\n",
    "lambda = 1.02\n",
    "a = 1\n",
    "sigma_1 = 0.005\n",
    "sigma_2 = 0.0001\n",
    "\n",
    "p = [lambda a sigma_1 sigma_2]\n",
    "#u0\n",
    "u0 = [1 0.1]\n",
    "\n"
   ]
  },
  {
   "cell_type": "markdown",
   "id": "87175bb1-1d5b-46b7-9755-fee736e9d129",
   "metadata": {},
   "source": [
    "#### Simple data generation \n",
    "I haven't checked the \"good\" params, so here it might be pretty random "
   ]
  },
  {
   "cell_type": "code",
   "execution_count": 8,
   "id": "026bccd6-a0af-4da0-9740-103bb4b9897f",
   "metadata": {},
   "outputs": [
    {
     "data": {
      "text/plain": [
       "15-element Vector{Float64}:\n",
       " 1.0\n",
       " 0.9233571051182355\n",
       " 0.8571170001917893\n",
       " 0.8009273436504152\n",
       " 0.7660225722157694\n",
       " 0.7407626638945856\n",
       " 0.7276186147606544\n",
       " 0.7220559077505675\n",
       " 0.7186359992960852\n",
       " 0.7228265712893535\n",
       " 0.7314405867290603\n",
       " 0.7369394038076666\n",
       " 0.7458250899560609\n",
       " 0.7657115935830267\n",
       " 0.7805542164635214"
      ]
     },
     "execution_count": 8,
     "metadata": {},
     "output_type": "execute_result"
    }
   ],
   "source": [
    "Y = zeros(2, tspan[2]) \n",
    "n1 = sigma_1 .* randn(size(Y,2))\n",
    "n2 = sigma_2 .* randn(size(Y,2))\n",
    "Y[1,:] += n1\n",
    "Y[2,:] += n2\n",
    "Y[:,1] =u0\n",
    "\n",
    "for t in 2:size(Y,2)\n",
    "    Y[:,t] += NB_transition(Y[:,t-1], p, t)\n",
    "end\n",
    "observables = Y[1,:]"
   ]
  },
  {
   "cell_type": "markdown",
   "id": "8eb89f36-c1e7-41a7-bbdd-957387e609b0",
   "metadata": {},
   "source": [
    "### Definition in `StateSpaceProblem`"
   ]
  },
  {
   "cell_type": "code",
   "execution_count": 10,
   "id": "357e1107-3bbb-4a47-a86f-d12fde0c2358",
   "metadata": {},
   "outputs": [
    {
     "data": {
      "text/plain": [
       "StateSpaceProblem{Val{false}(), typeof(NB_transition), typeof(NB_noise), typeof(NB_observation), DifferenceEquations.Gaussian{Int64, Nothing}, DifferenceEquations.Gaussian{Int64, Nothing}, ZeroMeanIsoNormal{Tuple{Base.OneTo{Int64}}}, Tuple{Int64, Int64}, Vector{Float64}, Matrix{Float64}}(NB_transition, NB_noise, NB_observation, DifferenceEquations.Gaussian{Int64, Nothing}(0, nothing), DifferenceEquations.Gaussian{Int64, Nothing}(0, nothing), ZeroMeanIsoNormal(\n",
       "dim: 0\n",
       "μ: 0-element Zeros{Float64}\n",
       "Σ: Matrix{Float64}(undef, 0, 0)\n",
       ")\n",
       ", (1, 15), [1.0, 0.9233571051182355, 0.8571170001917893, 0.8009273436504152, 0.7660225722157694, 0.7407626638945856, 0.7276186147606544, 0.7220559077505675, 0.7186359992960852, 0.7228265712893535, 0.7314405867290603, 0.7369394038076666, 0.7458250899560609, 0.7657115935830267, 0.7805542164635214], [1.0 0.1])"
      ]
     },
     "execution_count": 10,
     "metadata": {},
     "output_type": "execute_result"
    }
   ],
   "source": [
    "prob = StateSpaceProblem(\n",
    "    NB_transition, \n",
    "    NB_noise, \n",
    "    NB_observation, \n",
    "    MvNormal(0,1),\n",
    "    tspan,\n",
    "    u0,\n",
    "    observables= observables\n",
    ")"
   ]
  },
  {
   "cell_type": "markdown",
   "id": "86e71098-6033-4131-8fc9-e5c9cf17eb58",
   "metadata": {},
   "source": [
    "\n",
    "\n",
    "\n"
   ]
  },
  {
   "cell_type": "code",
   "execution_count": null,
   "id": "26d29dbb-6b69-40ba-a989-b9b1897730d0",
   "metadata": {},
   "outputs": [],
   "source": []
  }
 ],
 "metadata": {
  "kernelspec": {
   "display_name": "Julia 1.6.1",
   "language": "julia",
   "name": "julia-1.6"
  },
  "language_info": {
   "file_extension": ".jl",
   "mimetype": "application/julia",
   "name": "julia",
   "version": "1.6.1"
  }
 },
 "nbformat": 4,
 "nbformat_minor": 5
}
